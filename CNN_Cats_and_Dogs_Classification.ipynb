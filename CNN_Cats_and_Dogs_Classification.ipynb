{
  "nbformat": 4,
  "nbformat_minor": 0,
  "metadata": {
    "colab": {
      "provenance": [],
      "authorship_tag": "ABX9TyO4TTd2Pt1WWaXHkmiJWOk/",
      "include_colab_link": true
    },
    "kernelspec": {
      "name": "python3",
      "display_name": "Python 3"
    },
    "language_info": {
      "name": "python"
    }
  },
  "cells": [
    {
      "cell_type": "markdown",
      "metadata": {
        "id": "view-in-github",
        "colab_type": "text"
      },
      "source": [
        "<a href=\"https://colab.research.google.com/github/BrilliantChard/CNN-Projects/blob/main/CNN_Cats_and_Dogs_Classification.ipynb\" target=\"_parent\"><img src=\"https://colab.research.google.com/assets/colab-badge.svg\" alt=\"Open In Colab\"/></a>"
      ]
    },
    {
      "cell_type": "code",
      "execution_count": null,
      "metadata": {
        "id": "K-Vs0oaUUkZD"
      },
      "outputs": [],
      "source": [
        "import tensorflow as tf\n",
        "import random\n",
        "import pandas as pd\n",
        "import numpy as np\n",
        "import matplotlib.pyplot as plt"
      ]
    },
    {
      "cell_type": "markdown",
      "source": [
        "# Loading the Dataset"
      ],
      "metadata": {
        "id": "24H3PW8Sa4Kv"
      }
    },
    {
      "cell_type": "code",
      "source": [
        "from google.colab import drive\n",
        "drive.mount('/content/drive')"
      ],
      "metadata": {
        "colab": {
          "base_uri": "https://localhost:8080/"
        },
        "id": "blUZhXGGbPlu",
        "outputId": "e0aeecd8-b945-470a-94af-0ab404416f71"
      },
      "execution_count": null,
      "outputs": [
        {
          "output_type": "stream",
          "name": "stdout",
          "text": [
            "Mounted at /content/drive\n"
          ]
        }
      ]
    },
    {
      "cell_type": "code",
      "source": [
        "x_train = np.loadtxt('/content/drive/MyDrive/Colab Notebooks/CATS AND DOGS CNN/input.csv', delimiter=',')\n",
        "y_train = np.loadtxt('/content/drive/MyDrive/Colab Notebooks/CATS AND DOGS CNN/labels.csv', delimiter=',')\n",
        "\n",
        "y_test = np.loadtxt('/content/drive/MyDrive/Colab Notebooks/CATS AND DOGS CNN/labels_test.csv', delimiter=',')\n",
        "x_test = np.loadtxt('/content/drive/MyDrive/Colab Notebooks/CATS AND DOGS CNN/input_test.csv', delimiter=',')"
      ],
      "metadata": {
        "id": "wkrRLLnKfETV"
      },
      "execution_count": null,
      "outputs": []
    },
    {
      "cell_type": "markdown",
      "source": [
        "# Reshaping"
      ],
      "metadata": {
        "id": "VDsI2CbrdvAj"
      }
    },
    {
      "cell_type": "code",
      "source": [
        "print(f\"X train shape: {x_train.shape}\")\n",
        "print(f\"X test shape: {x_test.shape}\")\n",
        "\n",
        "print(f\"Y train shape: {y_train.shape}\")\n",
        "print(f\"Y test shape: {y_test.shape}\")"
      ],
      "metadata": {
        "colab": {
          "base_uri": "https://localhost:8080/"
        },
        "id": "1euXgZz8gq9t",
        "outputId": "a859a6d6-ded0-48a3-fd10-7b6bb3b70420"
      },
      "execution_count": null,
      "outputs": [
        {
          "output_type": "stream",
          "name": "stdout",
          "text": [
            "X train shape: (2000, 100, 100, 3)\n",
            "X test shape: (400, 30000)\n",
            "Y train shape: (2000,)\n",
            "Y test shape: (400,)\n"
          ]
        }
      ]
    },
    {
      "cell_type": "code",
      "source": [],
      "metadata": {
        "id": "YLeap0BwgvCv"
      },
      "execution_count": null,
      "outputs": []
    },
    {
      "cell_type": "code",
      "source": [
        "x_train = x_train.reshape(len(x_train), 100, 100, 3)\n",
        "x_test = x_test.reshape(len(x_test), 100, 100, 3)\n",
        "\n",
        "y_train = y_train.reshape(len(y_train), 1)\n",
        "y_test = y_test.reshape(len(y_test), 1)\n"
      ],
      "metadata": {
        "id": "6cr6UeE8dun_"
      },
      "execution_count": null,
      "outputs": []
    },
    {
      "cell_type": "code",
      "source": [
        "print(f'Shape of X train: {x_train.shape}')\n",
        "print(f'Shape of y train: {y_train.shape}')\n",
        "print(f'Shape of x test: {x_test.shape}')\n",
        "print(f'Shape of y test: {y_test.shape}')"
      ],
      "metadata": {
        "id": "5bea3u6FdFz_",
        "colab": {
          "base_uri": "https://localhost:8080/"
        },
        "outputId": "0b1df72c-a572-41ee-b393-60f0c282606a"
      },
      "execution_count": null,
      "outputs": [
        {
          "output_type": "stream",
          "name": "stdout",
          "text": [
            "Shape of X train: (2000, 100, 100, 3)\n",
            "Shape of y train: (2000, 1)\n",
            "Shape of x test: (400, 100, 100, 3)\n",
            "Shape of y test: (400, 1)\n"
          ]
        }
      ]
    },
    {
      "cell_type": "code",
      "source": [
        "x_train = x_train/255.0\n",
        "x_test = x_test/255.0\n",
        "y_train = y_train/255.0\n",
        "y_test = y_test/255.0"
      ],
      "metadata": {
        "id": "hbd6vyQtecjp"
      },
      "execution_count": null,
      "outputs": []
    },
    {
      "cell_type": "code",
      "source": [
        "x_train[1:]"
      ],
      "metadata": {
        "colab": {
          "base_uri": "https://localhost:8080/"
        },
        "id": "VSPE4e2Betwq",
        "outputId": "71bd04c5-171d-4754-ba1f-ca587aaded42"
      },
      "execution_count": null,
      "outputs": [
        {
          "output_type": "execute_result",
          "data": {
            "text/plain": [
              "array([[[[0.51372549, 0.50196078, 0.52941176],\n",
              "         [0.62745098, 0.61568627, 0.64313725],\n",
              "         [0.77647059, 0.75294118, 0.8       ],\n",
              "         ...,\n",
              "         [0.98039216, 0.97647059, 0.96862745],\n",
              "         [1.        , 1.        , 0.99215686],\n",
              "         [0.98039216, 0.97647059, 0.96078431]],\n",
              "\n",
              "        [[0.54901961, 0.5372549 , 0.56470588],\n",
              "         [0.49803922, 0.48627451, 0.51372549],\n",
              "         [0.47058824, 0.44705882, 0.48627451],\n",
              "         ...,\n",
              "         [0.98431373, 0.99215686, 0.98823529],\n",
              "         [0.99607843, 1.        , 0.99215686],\n",
              "         [0.99607843, 1.        , 0.98431373]],\n",
              "\n",
              "        [[0.8       , 0.79215686, 0.81176471],\n",
              "         [0.73333333, 0.7254902 , 0.74509804],\n",
              "         [0.57647059, 0.55686275, 0.58039216],\n",
              "         ...,\n",
              "         [0.97647059, 1.        , 1.        ],\n",
              "         [0.93333333, 0.96862745, 0.94901961],\n",
              "         [0.90980392, 0.94509804, 0.9254902 ]],\n",
              "\n",
              "        ...,\n",
              "\n",
              "        [[0.68235294, 0.71372549, 0.76470588],\n",
              "         [0.6745098 , 0.70588235, 0.75686275],\n",
              "         [0.69803922, 0.72941176, 0.77254902],\n",
              "         ...,\n",
              "         [0.34117647, 0.44705882, 0.38039216],\n",
              "         [0.29411765, 0.38823529, 0.3254902 ],\n",
              "         [0.31372549, 0.41176471, 0.3372549 ]],\n",
              "\n",
              "        [[0.65098039, 0.67843137, 0.74117647],\n",
              "         [0.64313725, 0.6745098 , 0.7254902 ],\n",
              "         [0.6745098 , 0.70588235, 0.75686275],\n",
              "         ...,\n",
              "         [0.30588235, 0.41568627, 0.32941176],\n",
              "         [0.28235294, 0.38039216, 0.29803922],\n",
              "         [0.30196078, 0.4       , 0.31764706]],\n",
              "\n",
              "        [[0.67843137, 0.70588235, 0.76862745],\n",
              "         [0.6745098 , 0.70196078, 0.76470588],\n",
              "         [0.68235294, 0.71372549, 0.76470588],\n",
              "         ...,\n",
              "         [0.24705882, 0.35686275, 0.27058824],\n",
              "         [0.24313725, 0.34117647, 0.25490196],\n",
              "         [0.27843137, 0.37647059, 0.29019608]]],\n",
              "\n",
              "\n",
              "       [[[0.31372549, 0.36078431, 0.34509804],\n",
              "         [0.3254902 , 0.37647059, 0.34901961],\n",
              "         [0.29803922, 0.36078431, 0.32156863],\n",
              "         ...,\n",
              "         [0.05490196, 0.1372549 , 0.07843137],\n",
              "         [0.05490196, 0.1372549 , 0.07843137],\n",
              "         [0.07843137, 0.16078431, 0.10196078]],\n",
              "\n",
              "        [[0.30588235, 0.34117647, 0.32941176],\n",
              "         [0.35294118, 0.39607843, 0.37254902],\n",
              "         [0.30980392, 0.35294118, 0.32156863],\n",
              "         ...,\n",
              "         [0.14509804, 0.21176471, 0.14901961],\n",
              "         [0.12156863, 0.18823529, 0.1254902 ],\n",
              "         [0.05098039, 0.11764706, 0.05490196]],\n",
              "\n",
              "        [[0.25098039, 0.25882353, 0.24705882],\n",
              "         [0.31372549, 0.33333333, 0.30980392],\n",
              "         [0.36470588, 0.39215686, 0.36078431],\n",
              "         ...,\n",
              "         [0.15686275, 0.18039216, 0.1254902 ],\n",
              "         [0.15686275, 0.18823529, 0.12941176],\n",
              "         [0.05490196, 0.08627451, 0.02745098]],\n",
              "\n",
              "        ...,\n",
              "\n",
              "        [[0.39215686, 0.42745098, 0.36078431],\n",
              "         [0.36470588, 0.41568627, 0.3372549 ],\n",
              "         [0.35294118, 0.43137255, 0.33333333],\n",
              "         ...,\n",
              "         [0.6745098 , 0.65490196, 0.58039216],\n",
              "         [0.63137255, 0.61176471, 0.5372549 ],\n",
              "         [0.56862745, 0.54901961, 0.4745098 ]],\n",
              "\n",
              "        [[0.38823529, 0.43137255, 0.36470588],\n",
              "         [0.37647059, 0.42745098, 0.34901961],\n",
              "         [0.36078431, 0.43921569, 0.34117647],\n",
              "         ...,\n",
              "         [0.58823529, 0.56862745, 0.49411765],\n",
              "         [0.52156863, 0.50196078, 0.42352941],\n",
              "         [0.57254902, 0.55294118, 0.4745098 ]],\n",
              "\n",
              "        [[0.41568627, 0.45882353, 0.39215686],\n",
              "         [0.4       , 0.45882353, 0.37647059],\n",
              "         [0.36862745, 0.44705882, 0.34901961],\n",
              "         ...,\n",
              "         [0.52156863, 0.50196078, 0.42745098],\n",
              "         [0.46666667, 0.44705882, 0.36862745],\n",
              "         [0.48627451, 0.46666667, 0.38823529]]],\n",
              "\n",
              "\n",
              "       [[[0.58431373, 0.67843137, 0.59215686],\n",
              "         [0.51372549, 0.6       , 0.51764706],\n",
              "         [0.61176471, 0.67843137, 0.60784314],\n",
              "         ...,\n",
              "         [0.71372549, 0.79607843, 0.6745098 ],\n",
              "         [0.74901961, 0.83137255, 0.70980392],\n",
              "         [0.72941176, 0.81176471, 0.69019608]],\n",
              "\n",
              "        [[0.36862745, 0.45490196, 0.37254902],\n",
              "         [0.46666667, 0.54117647, 0.4627451 ],\n",
              "         [0.57647059, 0.63529412, 0.56078431],\n",
              "         ...,\n",
              "         [0.71372549, 0.79215686, 0.68627451],\n",
              "         [0.76862745, 0.84705882, 0.74117647],\n",
              "         [0.77647059, 0.85490196, 0.74901961]],\n",
              "\n",
              "        [[0.23137255, 0.29019608, 0.20784314],\n",
              "         [0.48235294, 0.54117647, 0.45882353],\n",
              "         [0.67058824, 0.71764706, 0.63921569],\n",
              "         ...,\n",
              "         [0.70588235, 0.78823529, 0.71372549],\n",
              "         [0.76078431, 0.84313725, 0.76862745],\n",
              "         [0.78823529, 0.87058824, 0.79607843]],\n",
              "\n",
              "        ...,\n",
              "\n",
              "        [[0.43137255, 0.48235294, 0.55686275],\n",
              "         [0.4       , 0.45098039, 0.5254902 ],\n",
              "         [0.2627451 , 0.31372549, 0.38823529],\n",
              "         ...,\n",
              "         [0.11764706, 0.11764706, 0.15686275],\n",
              "         [0.10980392, 0.10980392, 0.14901961],\n",
              "         [0.11372549, 0.11372549, 0.15294118]],\n",
              "\n",
              "        [[0.42352941, 0.48235294, 0.55686275],\n",
              "         [0.4745098 , 0.53333333, 0.60784314],\n",
              "         [0.39607843, 0.45490196, 0.52941176],\n",
              "         ...,\n",
              "         [0.15686275, 0.15686275, 0.19607843],\n",
              "         [0.16078431, 0.16078431, 0.2       ],\n",
              "         [0.17254902, 0.17254902, 0.21176471]],\n",
              "\n",
              "        [[0.42352941, 0.48235294, 0.55686275],\n",
              "         [0.34117647, 0.4       , 0.4745098 ],\n",
              "         [0.37254902, 0.43137255, 0.50588235],\n",
              "         ...,\n",
              "         [0.18823529, 0.18823529, 0.22745098],\n",
              "         [0.2       , 0.2       , 0.23921569],\n",
              "         [0.21960784, 0.21960784, 0.25882353]]],\n",
              "\n",
              "\n",
              "       ...,\n",
              "\n",
              "\n",
              "       [[[0.90588235, 0.88627451, 0.90196078],\n",
              "         [0.9372549 , 0.92156863, 0.9254902 ],\n",
              "         [0.95294118, 0.9372549 , 0.93333333],\n",
              "         ...,\n",
              "         [0.92941176, 0.89411765, 0.83529412],\n",
              "         [0.76470588, 0.7254902 , 0.67843137],\n",
              "         [0.83921569, 0.8       , 0.75294118]],\n",
              "\n",
              "        [[0.95686275, 0.93333333, 0.94901961],\n",
              "         [0.8627451 , 0.84705882, 0.85098039],\n",
              "         [0.97254902, 0.95294118, 0.94117647],\n",
              "         ...,\n",
              "         [0.91764706, 0.87058824, 0.80784314],\n",
              "         [0.72156863, 0.6745098 , 0.61960784],\n",
              "         [0.76078431, 0.71372549, 0.65882353]],\n",
              "\n",
              "        [[0.91372549, 0.87843137, 0.89019608],\n",
              "         [0.85098039, 0.82745098, 0.82745098],\n",
              "         [0.9372549 , 0.90588235, 0.89411765],\n",
              "         ...,\n",
              "         [0.94509804, 0.87843137, 0.81568627],\n",
              "         [0.79607843, 0.72941176, 0.66666667],\n",
              "         [0.82352941, 0.75686275, 0.69411765]],\n",
              "\n",
              "        ...,\n",
              "\n",
              "        [[0.03137255, 0.00784314, 0.00784314],\n",
              "         [0.03921569, 0.02352941, 0.01960784],\n",
              "         [0.05098039, 0.03529412, 0.02352941],\n",
              "         ...,\n",
              "         [0.29803922, 0.30980392, 0.3372549 ],\n",
              "         [0.27058824, 0.28235294, 0.30980392],\n",
              "         [0.25882353, 0.27058824, 0.29803922]],\n",
              "\n",
              "        [[0.18823529, 0.17254902, 0.16862745],\n",
              "         [0.19215686, 0.18823529, 0.18039216],\n",
              "         [0.19607843, 0.19215686, 0.18431373],\n",
              "         ...,\n",
              "         [0.29411765, 0.30588235, 0.33333333],\n",
              "         [0.27058824, 0.28235294, 0.30980392],\n",
              "         [0.25490196, 0.26666667, 0.29411765]],\n",
              "\n",
              "        [[0.25882353, 0.25490196, 0.24705882],\n",
              "         [0.27058824, 0.26666667, 0.25882353],\n",
              "         [0.2745098 , 0.2745098 , 0.26666667],\n",
              "         ...,\n",
              "         [0.29019608, 0.30196078, 0.32941176],\n",
              "         [0.26666667, 0.27843137, 0.30588235],\n",
              "         [0.24313725, 0.25490196, 0.28235294]]],\n",
              "\n",
              "\n",
              "       [[[0.23921569, 0.23921569, 0.24705882],\n",
              "         [0.09411765, 0.09019608, 0.10980392],\n",
              "         [0.09803922, 0.09803922, 0.12941176],\n",
              "         ...,\n",
              "         [0.18431373, 0.2       , 0.20392157],\n",
              "         [0.17647059, 0.19215686, 0.19607843],\n",
              "         [0.17647059, 0.19215686, 0.19607843]],\n",
              "\n",
              "        [[0.04313725, 0.04705882, 0.05490196],\n",
              "         [0.0627451 , 0.07843137, 0.08235294],\n",
              "         [0.07058824, 0.08235294, 0.10980392],\n",
              "         ...,\n",
              "         [0.25882353, 0.2745098 , 0.27843137],\n",
              "         [0.23921569, 0.25490196, 0.26666667],\n",
              "         [0.23137255, 0.24705882, 0.25098039]],\n",
              "\n",
              "        [[0.01176471, 0.04705882, 0.03529412],\n",
              "         [0.06666667, 0.10196078, 0.09019608],\n",
              "         [0.13333333, 0.16470588, 0.17647059],\n",
              "         ...,\n",
              "         [0.32941176, 0.34901961, 0.36078431],\n",
              "         [0.29019608, 0.30980392, 0.3254902 ],\n",
              "         [0.2745098 , 0.29411765, 0.30588235]],\n",
              "\n",
              "        ...,\n",
              "\n",
              "        [[0.57647059, 0.56862745, 0.62352941],\n",
              "         [0.53333333, 0.52156863, 0.58823529],\n",
              "         [0.51764706, 0.50588235, 0.57254902],\n",
              "         ...,\n",
              "         [0.48627451, 0.43137255, 0.41960784],\n",
              "         [0.45098039, 0.39607843, 0.38431373],\n",
              "         [0.50980392, 0.45490196, 0.44313725]],\n",
              "\n",
              "        [[0.54509804, 0.53333333, 0.6       ],\n",
              "         [0.50588235, 0.49411765, 0.56078431],\n",
              "         [0.50196078, 0.49019608, 0.56470588],\n",
              "         ...,\n",
              "         [0.45882353, 0.40392157, 0.4       ],\n",
              "         [0.36862745, 0.31372549, 0.30980392],\n",
              "         [0.43529412, 0.39215686, 0.38431373]],\n",
              "\n",
              "        [[0.52941176, 0.51764706, 0.58431373],\n",
              "         [0.47843137, 0.46666667, 0.53333333],\n",
              "         [0.56078431, 0.54901961, 0.63137255],\n",
              "         ...,\n",
              "         [0.58431373, 0.52941176, 0.52941176],\n",
              "         [0.48235294, 0.43529412, 0.43529412],\n",
              "         [0.52941176, 0.48235294, 0.48235294]]],\n",
              "\n",
              "\n",
              "       [[[0.25098039, 0.12156863, 0.04705882],\n",
              "         [0.4627451 , 0.24705882, 0.16470588],\n",
              "         [0.76470588, 0.36470588, 0.27843137],\n",
              "         ...,\n",
              "         [0.3372549 , 0.17647059, 0.09803922],\n",
              "         [0.32941176, 0.18039216, 0.09803922],\n",
              "         [0.33333333, 0.18431373, 0.10196078]],\n",
              "\n",
              "        [[0.21568627, 0.11372549, 0.04705882],\n",
              "         [0.34509804, 0.15686275, 0.07843137],\n",
              "         [0.69803922, 0.31372549, 0.21568627],\n",
              "         ...,\n",
              "         [0.35686275, 0.19215686, 0.09803922],\n",
              "         [0.34117647, 0.18431373, 0.08627451],\n",
              "         [0.33333333, 0.17647059, 0.07843137]],\n",
              "\n",
              "        [[0.16862745, 0.12156863, 0.05882353],\n",
              "         [0.29803922, 0.15294118, 0.07843137],\n",
              "         [0.6       , 0.24705882, 0.14117647],\n",
              "         ...,\n",
              "         [0.37647059, 0.2       , 0.08627451],\n",
              "         [0.35294118, 0.17647059, 0.0627451 ],\n",
              "         [0.3372549 , 0.16078431, 0.04705882]],\n",
              "\n",
              "        ...,\n",
              "\n",
              "        [[0.51764706, 0.43529412, 0.32156863],\n",
              "         [0.50196078, 0.41960784, 0.30588235],\n",
              "         [0.56078431, 0.48627451, 0.36862745],\n",
              "         ...,\n",
              "         [0.35686275, 0.30588235, 0.23921569],\n",
              "         [0.29019608, 0.23529412, 0.18431373],\n",
              "         [0.25098039, 0.19607843, 0.14509804]],\n",
              "\n",
              "        [[0.47058824, 0.38823529, 0.2745098 ],\n",
              "         [0.50588235, 0.42352941, 0.30980392],\n",
              "         [0.53333333, 0.45882353, 0.34117647],\n",
              "         ...,\n",
              "         [0.44313725, 0.39215686, 0.3254902 ],\n",
              "         [0.29803922, 0.24313725, 0.19215686],\n",
              "         [0.25882353, 0.21176471, 0.15686275]],\n",
              "\n",
              "        [[0.49019608, 0.40784314, 0.29411765],\n",
              "         [0.5254902 , 0.44313725, 0.32941176],\n",
              "         [0.47843137, 0.40392157, 0.28627451],\n",
              "         ...,\n",
              "         [0.43529412, 0.38431373, 0.31764706],\n",
              "         [0.2745098 , 0.22745098, 0.17254902],\n",
              "         [0.23921569, 0.19215686, 0.1372549 ]]]])"
            ]
          },
          "metadata": {},
          "execution_count": 12
        }
      ]
    },
    {
      "cell_type": "markdown",
      "source": [
        "# Displaying a random Image"
      ],
      "metadata": {
        "id": "ffoIXvjVi8AE"
      }
    },
    {
      "cell_type": "code",
      "source": [
        "image = random.randint(0, len(x_train))\n",
        "\n",
        "plt.imshow(x_train[image, :])\n",
        "plt.show()"
      ],
      "metadata": {
        "id": "Vv6JcPNMexbb",
        "colab": {
          "base_uri": "https://localhost:8080/",
          "height": 433
        },
        "outputId": "8e89bbdc-84e2-420a-cba9-897764b46187"
      },
      "execution_count": null,
      "outputs": [
        {
          "output_type": "display_data",
          "data": {
            "text/plain": [
              "<Figure size 640x480 with 1 Axes>"
            ],
            "image/png": "[encoded data removed]"
          },
          "metadata": {}
        }
      ]
    },
    {
      "cell_type": "markdown",
      "source": [
        "# **Model Selection and Training**"
      ],
      "metadata": {
        "id": "Ik9YABRej_fR"
      }
    },
    {
      "cell_type": "code",
      "source": [
        "model = tf.keras.Sequential([\n",
        "    tf.keras.layers.Conv2D(filters=32, kernel_size=(3, 3), activation='relu', input_shape=(100, 100, 3)),\n",
        "    tf.keras.layers.MaxPool2D((2, 2)),\n",
        "\n",
        "    tf.keras.layers.Conv2D(filters=32, kernel_size=(3, 3), activation='relu'),\n",
        "    tf.keras.layers.MaxPool2D((2, 2)),\n",
        "\n",
        "    tf.keras.layers.Flatten(),\n",
        "\n",
        "    tf.keras.layers.Dense(128, activation='relu'),\n",
        "    tf.keras.layers.Dense(64, activation='relu'),\n",
        "    tf.keras.layers.Dense(32, activation='relu'),\n",
        "\n",
        "    tf.keras.layers.Dense(1, activation='sigmoid'),\n",
        "\n",
        "])"
      ],
      "metadata": {
        "id": "rdvAt66IkDw9",
        "colab": {
          "base_uri": "https://localhost:8080/"
        },
        "outputId": "5b4763b7-5c5f-4a86-af54-bc7ab6da86d1"
      },
      "execution_count": null,
      "outputs": [
        {
          "output_type": "stream",
          "name": "stderr",
          "text": [
            "/usr/local/lib/python3.11/dist-packages/keras/src/layers/convolutional/base_conv.py:107: UserWarning: Do not pass an `input_shape`/`input_dim` argument to a layer. When using Sequential models, prefer using an `Input(shape)` object as the first layer in the model instead.\n",
            "  super().__init__(activity_regularizer=activity_regularizer, **kwargs)\n"
          ]
        }
      ]
    },
    {
      "cell_type": "markdown",
      "source": [
        "# Compilation"
      ],
      "metadata": {
        "id": "glOc9QIXmedE"
      }
    },
    {
      "cell_type": "code",
      "source": [
        "model.compile(\n",
        "    loss = 'binary_crossentropy',\n",
        "    optimizer = 'adam',\n",
        "    metrics = ['accuracy']\n",
        ")"
      ],
      "metadata": {
        "id": "0SH-1oBBmg8m"
      },
      "execution_count": null,
      "outputs": []
    },
    {
      "cell_type": "code",
      "source": [
        "model.fit(x_train, y_train, epochs = 10, batch_size = 128)"
      ],
      "metadata": {
        "colab": {
          "base_uri": "https://localhost:8080/"
        },
        "id": "KOQy-841nP_7",
        "outputId": "045ad80f-cc3a-443d-a657-cbf5370fab12"
      },
      "execution_count": null,
      "outputs": [
        {
          "output_type": "stream",
          "name": "stdout",
          "text": [
            "Epoch 1/10\n",
            "\u001b[1m16/16\u001b[0m \u001b[32m━━━━━━━━━━━━━━━━━━━━\u001b[0m\u001b[37m\u001b[0m \u001b[1m27s\u001b[0m 1s/step - accuracy: 0.3940 - loss: 0.1913\n",
            "Epoch 2/10\n",
            "\u001b[1m16/16\u001b[0m \u001b[32m━━━━━━━━━━━━━━━━━━━━\u001b[0m\u001b[37m\u001b[0m \u001b[1m40s\u001b[0m 1s/step - accuracy: 0.4873 - loss: 0.0203\n",
            "Epoch 3/10\n",
            "\u001b[1m16/16\u001b[0m \u001b[32m━━━━━━━━━━━━━━━━━━━━\u001b[0m\u001b[37m\u001b[0m \u001b[1m41s\u001b[0m 1s/step - accuracy: 0.5126 - loss: 0.0160\n",
            "Epoch 4/10\n",
            "\u001b[1m16/16\u001b[0m \u001b[32m━━━━━━━━━━━━━━━━━━━━\u001b[0m\u001b[37m\u001b[0m \u001b[1m42s\u001b[0m 2s/step - accuracy: 0.5166 - loss: 0.0154\n",
            "Epoch 5/10\n",
            "\u001b[1m16/16\u001b[0m \u001b[32m━━━━━━━━━━━━━━━━━━━━\u001b[0m\u001b[37m\u001b[0m \u001b[1m40s\u001b[0m 1s/step - accuracy: 0.5046 - loss: 0.0147\n",
            "Epoch 6/10\n",
            "\u001b[1m16/16\u001b[0m \u001b[32m━━━━━━━━━━━━━━━━━━━━\u001b[0m\u001b[37m\u001b[0m \u001b[1m42s\u001b[0m 1s/step - accuracy: 0.4933 - loss: 0.0146\n",
            "Epoch 7/10\n",
            "\u001b[1m16/16\u001b[0m \u001b[32m━━━━━━━━━━━━━━━━━━━━\u001b[0m\u001b[37m\u001b[0m \u001b[1m21s\u001b[0m 1s/step - accuracy: 0.5135 - loss: 0.0139\n",
            "Epoch 8/10\n",
            "\u001b[1m16/16\u001b[0m \u001b[32m━━━━━━━━━━━━━━━━━━━━\u001b[0m\u001b[37m\u001b[0m \u001b[1m41s\u001b[0m 1s/step - accuracy: 0.5026 - loss: 0.0141\n",
            "Epoch 9/10\n",
            "\u001b[1m16/16\u001b[0m \u001b[32m━━━━━━━━━━━━━━━━━━━━\u001b[0m\u001b[37m\u001b[0m \u001b[1m23s\u001b[0m 1s/step - accuracy: 0.5015 - loss: 0.0141\n",
            "Epoch 10/10\n",
            "\u001b[1m16/16\u001b[0m \u001b[32m━━━━━━━━━━━━━━━━━━━━\u001b[0m\u001b[37m\u001b[0m \u001b[1m21s\u001b[0m 1s/step - accuracy: 0.5023 - loss: 0.0140\n"
          ]
        },
        {
          "output_type": "execute_result",
          "data": {
            "text/plain": [
              "<keras.src.callbacks.history.History at 0x7bc2fe1fa4d0>"
            ]
          },
          "metadata": {},
          "execution_count": 18
        }
      ]
    },
    {
      "cell_type": "code",
      "source": [
        "predictions = model.predict(x_test)"
      ],
      "metadata": {
        "id": "Im2wN0LynaRm",
        "colab": {
          "base_uri": "https://localhost:8080/"
        },
        "outputId": "ec7b3e3c-3ef3-431e-f338-d4d4d06103b9"
      },
      "execution_count": null,
      "outputs": [
        {
          "output_type": "stream",
          "name": "stdout",
          "text": [
            "\u001b[1m13/13\u001b[0m \u001b[32m━━━━━━━━━━━━━━━━━━━━\u001b[0m\u001b[37m\u001b[0m \u001b[1m1s\u001b[0m 84ms/step\n"
          ]
        }
      ]
    },
    {
      "cell_type": "code",
      "source": [
        "from sklearn.metrics import accuracy_score, classification_report"
      ],
      "metadata": {
        "id": "afmN6gikjm_Z"
      },
      "execution_count": null,
      "outputs": []
    },
    {
      "cell_type": "code",
      "source": [],
      "metadata": {
        "id": "4T4rQ7Nhjt83"
      },
      "execution_count": null,
      "outputs": []
    }
  ]
}